{
  "nbformat": 4,
  "nbformat_minor": 0,
  "metadata": {
    "colab": {
      "provenance": []
    },
    "kernelspec": {
      "name": "python3",
      "display_name": "Python 3"
    },
    "language_info": {
      "name": "python"
    }
  },
  "cells": [
    {
      "cell_type": "code",
      "execution_count": null,
      "metadata": {
        "id": "5WM_D3_MfAM3"
      },
      "outputs": [],
      "source": [
        "# 🛠️ SETUP\n",
        "!pip install -q ultralytics opencv-python tqdm"
      ]
    },
    {
      "cell_type": "code",
      "source": [
        "\n",
        "import cv2\n",
        "import os\n",
        "import json\n",
        "from ultralytics import YOLO\n",
        "from tqdm import tqdm\n",
        "from google.colab import files\n",
        "from IPython.display import display, Image\n",
        "from google.colab import drive\n"
      ],
      "metadata": {
        "id": "rwCQ91PlfXaL"
      },
      "execution_count": null,
      "outputs": []
    },
    {
      "cell_type": "code",
      "source": [
        "# 📁 CONFIG\n",
        "FRAME_OUTPUT_DIR = 'frames'\n",
        "COCO_OUTPUT_PATH = 'detections.json'\n",
        "FRAME_STEP = 30\n",
        "MODEL_NAME = 'yolov8n.pt'\n"
      ],
      "metadata": {
        "id": "2PtcCwyOfjaI"
      },
      "execution_count": null,
      "outputs": []
    },
    {
      "cell_type": "code",
      "source": [
        "# 📤 Upload your own video\n",
        "uploaded = files.upload()\n",
        "for fname in uploaded:\n",
        "    VIDEO_PATH = fname"
      ],
      "metadata": {
        "id": "UCxItHIGfkIC"
      },
      "execution_count": null,
      "outputs": []
    },
    {
      "cell_type": "code",
      "source": [
        "# 🎞️ EXTRACT FRAMES\n",
        "os.makedirs(FRAME_OUTPUT_DIR, exist_ok=True)\n",
        "cap = cv2.VideoCapture(VIDEO_PATH)\n",
        "frame_idx, saved_idx = 0, 0\n",
        "\n",
        "print(\"Extracting frames...\")\n",
        "while True:\n",
        "    success, frame = cap.read()\n",
        "    if not success:\n",
        "        break\n",
        "    if frame_idx % FRAME_STEP == 0:\n",
        "        cv2.imwrite(f\"{FRAME_OUTPUT_DIR}/frame_{saved_idx:05d}.jpg\", frame)\n",
        "        saved_idx += 1\n",
        "    frame_idx += 1\n",
        "\n",
        "cap.release()\n",
        "print(f\"Saved {saved_idx} frames to {FRAME_OUTPUT_DIR}/\")"
      ],
      "metadata": {
        "id": "2u8ZviEufkTH"
      },
      "execution_count": null,
      "outputs": []
    },
    {
      "cell_type": "code",
      "source": [
        "# 🤖 PRE-TAG WITH YOLO\n",
        "model = YOLO(MODEL_NAME)\n",
        "image_files = sorted([f for f in os.listdir(FRAME_OUTPUT_DIR) if f.endswith('.jpg')])\n",
        "\n",
        "coco_output = {\n",
        "    \"images\": [],\n",
        "    \"annotations\": [],\n",
        "    \"categories\": []\n",
        "}\n",
        "category_map = {}\n",
        "next_image_id = 1\n",
        "next_ann_id = 1\n",
        "next_category_id = 1\n",
        "\n",
        "for image_file in tqdm(image_files, desc=\"Pretagging\"):\n",
        "    img_path = os.path.join(FRAME_OUTPUT_DIR, image_file)\n",
        "    results = model(img_path)[0]\n",
        "    height, width = results.orig_shape\n",
        "\n",
        "    coco_output[\"images\"].append({\n",
        "        \"id\": next_image_id,\n",
        "        \"file_name\": image_file,\n",
        "        \"height\": height,\n",
        "        \"width\": width\n",
        "    })\n",
        "\n",
        "    for det in results.boxes.data.tolist():\n",
        "        x1, y1, x2, y2, conf, cls_id = det\n",
        "        cls_id = int(cls_id)\n",
        "        label = model.names[cls_id]\n",
        "\n",
        "        if label not in category_map:\n",
        "            category_map[label] = next_category_id\n",
        "            coco_output[\"categories\"].append({\n",
        "                \"id\": next_category_id,\n",
        "                \"name\": label\n",
        "            })\n",
        "            next_category_id += 1\n",
        "\n",
        "        coco_output[\"annotations\"].append({\n",
        "            \"id\": next_ann_id,\n",
        "            \"image_id\": next_image_id,\n",
        "            \"category_id\": category_map[label],\n",
        "            \"bbox\": [x1, y1, x2 - x1, y2 - y1],\n",
        "            \"area\": (x2 - x1) * (y2 - y1),\n",
        "            \"iscrowd\": 0\n",
        "        })\n",
        "        next_ann_id += 1\n",
        "\n",
        "    next_image_id += 1"
      ],
      "metadata": {
        "id": "Sl9QxctYfkcS"
      },
      "execution_count": null,
      "outputs": []
    },
    {
      "cell_type": "code",
      "source": [
        "# 💾 SAVE ANNOTATIONS\n",
        "with open(COCO_OUTPUT_PATH, 'w') as f:\n",
        "    json.dump(coco_output, f, indent=2)\n",
        "\n",
        "print(f\"COCO-format annotations saved to {COCO_OUTPUT_PATH}\")"
      ],
      "metadata": {
        "id": "BRSS5qTyfkkr"
      },
      "execution_count": null,
      "outputs": []
    },
    {
      "cell_type": "code",
      "source": [
        "\n",
        "# 📥 OPTIONAL: Download output\n",
        "files.download(COCO_OUTPUT_PATH)"
      ],
      "metadata": {
        "id": "ni2BEbsifktz"
      },
      "execution_count": null,
      "outputs": []
    }
  ]
}
